{
 "cells": [
  {
   "cell_type": "code",
   "execution_count": 16,
   "metadata": {},
   "outputs": [],
   "source": [
    "import tweepy\n",
    "import sys\n",
    "import csv\n",
    "import re\n",
    "from textblob import TextBlob"
   ]
  },
  {
   "cell_type": "code",
   "execution_count": 17,
   "metadata": {},
   "outputs": [],
   "source": [
    "non_bmp_map = dict.fromkeys(range(0x10000, sys.maxunicode + 1), 0xfffd)\n"
   ]
  },
  {
   "cell_type": "code",
   "execution_count": 18,
   "metadata": {},
   "outputs": [],
   "source": [
    "consumer_key = 'CONSUMER_KEY'\n",
    "consumer_secret = 'CONSUMER_SECRET'\n",
    "access_token = 'ACCESS_TOKEN'\n",
    "access_secret = 'ACCESS_SECRET'\n",
    "\n",
    "auth = tweepy.OAuthHandler(consumer_key, consumer_secret)\n",
    "auth.set_access_token(access_token, access_secret)\n",
    " \n",
    "api = tweepy.API(auth,wait_on_rate_limit=True)"
   ]
  },
  {
   "cell_type": "code",
   "execution_count": 29,
   "metadata": {},
   "outputs": [],
   "source": [
    "searchQuery = 'Trump'\n",
    "maxTweets = 1000\n",
    "acceptedCharsRegex = '[^0-9a-zA-Z.:/()&@-_=+;?!*\\']+'\n",
    "# header for csv file\n",
    "headers = [\n",
    "    'tweet', \n",
    "    'created_at',\n",
    "    'word_count',\n",
    "    'favorite_count', \n",
    "    'retweet_count',\n",
    "    'user_followers_count',\n",
    "    'user_following_count',\n",
    "    'user_friends_count',\n",
    "    'user_verified',\n",
    "    'subjectivity', \n",
    "    'polarity', \n",
    "    'sentiment'\n",
    "]"
   ]
  },
  {
   "cell_type": "code",
   "execution_count": 30,
   "metadata": {},
   "outputs": [],
   "source": [
    "threshold = {'neutral_min': -0.02, 'neutral_max': 0.25}\n",
    "\n",
    "# function to get the sentiment\n",
    "def get_sentiment(text, analysis):\n",
    "    if(analysis.sentiment.polarity < threshold['neutral_min']):\n",
    "        return \"Negative\"\n",
    "    elif(analysis.sentiment.polarity >= threshold['neutral_max']):\n",
    "        return \"Positive\"\n",
    "    else:\n",
    "        return \"Neutral\""
   ]
  },
  {
   "cell_type": "code",
   "execution_count": 31,
   "metadata": {
    "collapsed": false
   },
   "outputs": [],
   "source": [
    "with open('trump_twitter.csv', 'w', newline='') as csv_file:\n",
    "    writer = csv.writer(csv_file, delimiter=',')\n",
    "    writer.writerow(headers)\n",
    "    for tweet in tweepy.Cursor(api.search,q=searchQuery, tweet_mode='extended').items(maxTweets):\n",
    "        # getting the tweet dict\n",
    "        # print(tweet.__dict__)\n",
    "        \n",
    "        # cleaning the tweet text of special chars\n",
    "        tweetText = re.sub(acceptedCharsRegex, ' ', tweet.full_text.translate(non_bmp_map))\n",
    "        \n",
    "        # creating the TextBlobObject for analysis\n",
    "        analysis = TextBlob(tweetText)\n",
    "        \n",
    "        # saving all the information into an array\n",
    "        tweetInfos = [\n",
    "            tweetText, \n",
    "            tweet.created_at.strftime('%Y-%m-%d'),\n",
    "            analysis.words.__sizeof__(), \n",
    "            tweet.favorite_count,\n",
    "            tweet.retweet_count,\n",
    "            tweet.user.followers_count,\n",
    "            tweet.user.following,\n",
    "            tweet.user.friends_count,\n",
    "            tweet.user.verified,\n",
    "            analysis.sentiment.subjectivity, \n",
    "            analysis.sentiment.polarity,\n",
    "            get_sentiment(tweetText,analysis)\n",
    "        ]\n",
    "        \n",
    "        # print(tweetInfos)\n",
    "        \n",
    "        # writing the array in the csv file\n",
    "        writer.writerow(tweetInfos)\n"
   ]
  },
  {
   "cell_type": "code",
   "execution_count": null,
   "metadata": {},
   "outputs": [],
   "source": []
  }
 ],
 "metadata": {
  "kernelspec": {
   "display_name": "Python 3",
   "language": "python",
   "name": "python3"
  },
  "language_info": {
   "codemirror_mode": {
    "name": "ipython",
    "version": 3
   },
   "file_extension": ".py",
   "mimetype": "text/x-python",
   "name": "python",
   "nbconvert_exporter": "python",
   "pygments_lexer": "ipython3",
   "version": "3.6.4"
  }
 },
 "nbformat": 4,
 "nbformat_minor": 2
}
